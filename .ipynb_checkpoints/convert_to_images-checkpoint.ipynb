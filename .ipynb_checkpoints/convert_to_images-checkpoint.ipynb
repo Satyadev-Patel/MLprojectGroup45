{
 "cells": [
  {
   "cell_type": "code",
   "execution_count": 1,
   "id": "565091c5",
   "metadata": {},
   "outputs": [],
   "source": [
    "import numpy as np\n",
    "import pandas as pd\n",
    "from PIL import Image as im\n",
    "import matplotlib.pyplot as plt"
   ]
  },
  {
   "cell_type": "code",
   "execution_count": 11,
   "id": "ca9e04c5",
   "metadata": {},
   "outputs": [],
   "source": [
    "final_df = pd.read_csv(r'D:\\academics\\SEM5\\ML\\final_train.csv')\n"
   ]
  },
  {
   "cell_type": "code",
   "execution_count": 17,
   "id": "cd83ad7c",
   "metadata": {},
   "outputs": [],
   "source": [
    "X = final_df.drop(columns = ['emotion'])\n",
    "X = X.to_numpy()\n",
    "x_temp = np.reshape(X,(28709,48,48))\n",
    "x_temp = x_temp/255"
   ]
  },
  {
   "cell_type": "code",
   "execution_count": null,
   "id": "087d46c6",
   "metadata": {},
   "outputs": [],
   "source": [
    "j = 0\n",
    "for i in x_temp:\n",
    "    plt.imsave('data/' + str(j) + '.jpeg')\n",
    "    j = j + 1\n"
   ]
  }
 ],
 "metadata": {
  "kernelspec": {
   "display_name": "Python 3 (ipykernel)",
   "language": "python",
   "name": "python3"
  },
  "language_info": {
   "codemirror_mode": {
    "name": "ipython",
    "version": 3
   },
   "file_extension": ".py",
   "mimetype": "text/x-python",
   "name": "python",
   "nbconvert_exporter": "python",
   "pygments_lexer": "ipython3",
   "version": "3.9.7"
  }
 },
 "nbformat": 4,
 "nbformat_minor": 5
}
