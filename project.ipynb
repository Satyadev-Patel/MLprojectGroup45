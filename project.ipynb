{
 "cells": [
  {
   "cell_type": "code",
   "execution_count": 1,
   "id": "f980cd26",
   "metadata": {},
   "outputs": [],
   "source": [
    "import numpy as np\n",
    "import pandas as pd\n",
    "from PIL import Image as im\n",
    "import matplotlib.pyplot as plt"
   ]
  },
  {
   "cell_type": "code",
   "execution_count": 2,
   "id": "9f201ac6",
   "metadata": {},
   "outputs": [],
   "source": [
    "\"\"\"test_df = pd.read_csv(r'D:\\academics\\SEM5\\ML\\PROJECT\\test.csv')\n",
    "test_new_df = []\n",
    "for j in range(test_df.shape[0]):\n",
    "    x = test_df['pixels'][j]\n",
    "    x = x.split(' ')\n",
    "    for i in range(len(x)):\n",
    "        x[i] = int(x[i])\n",
    "    test_new_df.append(x)\n",
    "test_final_df = pd.DataFrame(test_new_df)\n",
    "test_final_df.head()\n",
    "test_final_df.to_csv('final_test.csv')\"\"\"\n",
    "\n",
    "final_df = pd.read_csv(r'D:\\academics\\SEM5\\ML\\final_train.csv')"
   ]
  },
  {
   "cell_type": "code",
   "execution_count": 3,
   "id": "b0b51ea1",
   "metadata": {},
   "outputs": [
    {
     "data": {
      "text/html": [
       "<div>\n",
       "<style scoped>\n",
       "    .dataframe tbody tr th:only-of-type {\n",
       "        vertical-align: middle;\n",
       "    }\n",
       "\n",
       "    .dataframe tbody tr th {\n",
       "        vertical-align: top;\n",
       "    }\n",
       "\n",
       "    .dataframe thead th {\n",
       "        text-align: right;\n",
       "    }\n",
       "</style>\n",
       "<table border=\"1\" class=\"dataframe\">\n",
       "  <thead>\n",
       "    <tr style=\"text-align: right;\">\n",
       "      <th></th>\n",
       "      <th>0</th>\n",
       "      <th>1</th>\n",
       "      <th>2</th>\n",
       "      <th>3</th>\n",
       "      <th>4</th>\n",
       "      <th>5</th>\n",
       "      <th>6</th>\n",
       "      <th>7</th>\n",
       "      <th>8</th>\n",
       "      <th>9</th>\n",
       "      <th>...</th>\n",
       "      <th>2294</th>\n",
       "      <th>2295</th>\n",
       "      <th>2296</th>\n",
       "      <th>2297</th>\n",
       "      <th>2298</th>\n",
       "      <th>2299</th>\n",
       "      <th>2300</th>\n",
       "      <th>2301</th>\n",
       "      <th>2302</th>\n",
       "      <th>2303</th>\n",
       "    </tr>\n",
       "  </thead>\n",
       "  <tbody>\n",
       "    <tr>\n",
       "      <th>0</th>\n",
       "      <td>70</td>\n",
       "      <td>80</td>\n",
       "      <td>82</td>\n",
       "      <td>72</td>\n",
       "      <td>58</td>\n",
       "      <td>58</td>\n",
       "      <td>60</td>\n",
       "      <td>63</td>\n",
       "      <td>54</td>\n",
       "      <td>58</td>\n",
       "      <td>...</td>\n",
       "      <td>159</td>\n",
       "      <td>182</td>\n",
       "      <td>183</td>\n",
       "      <td>136</td>\n",
       "      <td>106</td>\n",
       "      <td>116</td>\n",
       "      <td>95</td>\n",
       "      <td>106</td>\n",
       "      <td>109</td>\n",
       "      <td>82</td>\n",
       "    </tr>\n",
       "    <tr>\n",
       "      <th>1</th>\n",
       "      <td>151</td>\n",
       "      <td>150</td>\n",
       "      <td>147</td>\n",
       "      <td>155</td>\n",
       "      <td>148</td>\n",
       "      <td>133</td>\n",
       "      <td>111</td>\n",
       "      <td>140</td>\n",
       "      <td>170</td>\n",
       "      <td>174</td>\n",
       "      <td>...</td>\n",
       "      <td>105</td>\n",
       "      <td>108</td>\n",
       "      <td>95</td>\n",
       "      <td>108</td>\n",
       "      <td>102</td>\n",
       "      <td>67</td>\n",
       "      <td>171</td>\n",
       "      <td>193</td>\n",
       "      <td>183</td>\n",
       "      <td>184</td>\n",
       "    </tr>\n",
       "    <tr>\n",
       "      <th>2</th>\n",
       "      <td>231</td>\n",
       "      <td>212</td>\n",
       "      <td>156</td>\n",
       "      <td>164</td>\n",
       "      <td>174</td>\n",
       "      <td>138</td>\n",
       "      <td>161</td>\n",
       "      <td>173</td>\n",
       "      <td>182</td>\n",
       "      <td>200</td>\n",
       "      <td>...</td>\n",
       "      <td>104</td>\n",
       "      <td>138</td>\n",
       "      <td>152</td>\n",
       "      <td>122</td>\n",
       "      <td>114</td>\n",
       "      <td>101</td>\n",
       "      <td>97</td>\n",
       "      <td>88</td>\n",
       "      <td>110</td>\n",
       "      <td>152</td>\n",
       "    </tr>\n",
       "    <tr>\n",
       "      <th>3</th>\n",
       "      <td>24</td>\n",
       "      <td>32</td>\n",
       "      <td>36</td>\n",
       "      <td>30</td>\n",
       "      <td>32</td>\n",
       "      <td>23</td>\n",
       "      <td>19</td>\n",
       "      <td>20</td>\n",
       "      <td>30</td>\n",
       "      <td>41</td>\n",
       "      <td>...</td>\n",
       "      <td>174</td>\n",
       "      <td>126</td>\n",
       "      <td>132</td>\n",
       "      <td>132</td>\n",
       "      <td>133</td>\n",
       "      <td>136</td>\n",
       "      <td>139</td>\n",
       "      <td>142</td>\n",
       "      <td>143</td>\n",
       "      <td>142</td>\n",
       "    </tr>\n",
       "    <tr>\n",
       "      <th>4</th>\n",
       "      <td>4</td>\n",
       "      <td>0</td>\n",
       "      <td>0</td>\n",
       "      <td>0</td>\n",
       "      <td>0</td>\n",
       "      <td>0</td>\n",
       "      <td>0</td>\n",
       "      <td>0</td>\n",
       "      <td>0</td>\n",
       "      <td>0</td>\n",
       "      <td>...</td>\n",
       "      <td>12</td>\n",
       "      <td>34</td>\n",
       "      <td>31</td>\n",
       "      <td>31</td>\n",
       "      <td>31</td>\n",
       "      <td>27</td>\n",
       "      <td>31</td>\n",
       "      <td>30</td>\n",
       "      <td>29</td>\n",
       "      <td>30</td>\n",
       "    </tr>\n",
       "  </tbody>\n",
       "</table>\n",
       "<p>5 rows × 2304 columns</p>\n",
       "</div>"
      ],
      "text/plain": [
       "     0    1    2    3    4    5    6    7    8    9  ...  2294  2295  2296  \\\n",
       "0   70   80   82   72   58   58   60   63   54   58  ...   159   182   183   \n",
       "1  151  150  147  155  148  133  111  140  170  174  ...   105   108    95   \n",
       "2  231  212  156  164  174  138  161  173  182  200  ...   104   138   152   \n",
       "3   24   32   36   30   32   23   19   20   30   41  ...   174   126   132   \n",
       "4    4    0    0    0    0    0    0    0    0    0  ...    12    34    31   \n",
       "\n",
       "   2297  2298  2299  2300  2301  2302  2303  \n",
       "0   136   106   116    95   106   109    82  \n",
       "1   108   102    67   171   193   183   184  \n",
       "2   122   114   101    97    88   110   152  \n",
       "3   132   133   136   139   142   143   142  \n",
       "4    31    31    27    31    30    29    30  \n",
       "\n",
       "[5 rows x 2304 columns]"
      ]
     },
     "execution_count": 3,
     "metadata": {},
     "output_type": "execute_result"
    }
   ],
   "source": [
    "X = final_df.drop(columns = ['emotion'])\n",
    "X.head()"
   ]
  },
  {
   "cell_type": "code",
   "execution_count": 4,
   "id": "3f01454a",
   "metadata": {},
   "outputs": [],
   "source": [
    "X = X.to_numpy()"
   ]
  },
  {
   "cell_type": "code",
   "execution_count": 5,
   "id": "546d4c6e",
   "metadata": {},
   "outputs": [
    {
     "data": {
      "text/plain": [
       "(28709, 2304)"
      ]
     },
     "execution_count": 5,
     "metadata": {},
     "output_type": "execute_result"
    }
   ],
   "source": [
    "X.shape"
   ]
  },
  {
   "cell_type": "code",
   "execution_count": 6,
   "id": "5475ec15",
   "metadata": {},
   "outputs": [],
   "source": [
    "x_temp = np.reshape(X,(28709,48,48,1))\n",
    "x_temp = x_temp/255"
   ]
  },
  {
   "cell_type": "code",
   "execution_count": 7,
   "id": "8f33494e",
   "metadata": {},
   "outputs": [
    {
     "data": {
      "text/plain": [
       "array([[[0.2745098 ],\n",
       "        [0.31372549],\n",
       "        [0.32156863],\n",
       "        ...,\n",
       "        [0.20392157],\n",
       "        [0.16862745],\n",
       "        [0.16078431]],\n",
       "\n",
       "       [[0.25490196],\n",
       "        [0.23921569],\n",
       "        [0.22745098],\n",
       "        ...,\n",
       "        [0.21960784],\n",
       "        [0.20392157],\n",
       "        [0.17254902]],\n",
       "\n",
       "       [[0.19607843],\n",
       "        [0.16862745],\n",
       "        [0.21176471],\n",
       "        ...,\n",
       "        [0.19215686],\n",
       "        [0.21960784],\n",
       "        [0.18431373]],\n",
       "\n",
       "       ...,\n",
       "\n",
       "       [[0.35686275],\n",
       "        [0.25490196],\n",
       "        [0.16470588],\n",
       "        ...,\n",
       "        [0.28235294],\n",
       "        [0.21960784],\n",
       "        [0.16862745]],\n",
       "\n",
       "       [[0.30196078],\n",
       "        [0.32156863],\n",
       "        [0.30980392],\n",
       "        ...,\n",
       "        [0.41176471],\n",
       "        [0.2745098 ],\n",
       "        [0.18039216]],\n",
       "\n",
       "       [[0.30196078],\n",
       "        [0.28235294],\n",
       "        [0.32941176],\n",
       "        ...,\n",
       "        [0.41568627],\n",
       "        [0.42745098],\n",
       "        [0.32156863]]])"
      ]
     },
     "execution_count": 7,
     "metadata": {},
     "output_type": "execute_result"
    }
   ],
   "source": [
    "x_temp[0]"
   ]
  },
  {
   "cell_type": "code",
   "execution_count": 8,
   "id": "4cdcdcc9",
   "metadata": {},
   "outputs": [
    {
     "data": {
      "text/plain": [
       "<matplotlib.image.AxesImage at 0x2222ccf7e50>"
      ]
     },
     "execution_count": 8,
     "metadata": {},
     "output_type": "execute_result"
    },
    {
     "data": {
      "image/png": "[encoded data removed]",
      "text/plain": [
       "<Figure size 432x288 with 1 Axes>"
      ]
     },
     "metadata": {
      "needs_background": "light"
     },
     "output_type": "display_data"
    }
   ],
   "source": [
    "plt.imshow(x_temp[15212])"
   ]
  },
  {
   "cell_type": "code",
   "execution_count": 9,
   "id": "63633c0a",
   "metadata": {},
   "outputs": [],
   "source": [
    "y = final_df['emotion']"
   ]
  },
  {
   "cell_type": "code",
   "execution_count": 10,
   "id": "986b4b40",
   "metadata": {},
   "outputs": [],
   "source": [
    "y = y.to_numpy()"
   ]
  },
  {
   "cell_type": "code",
   "execution_count": null,
   "id": "eef62722",
   "metadata": {},
   "outputs": [],
   "source": []
  },
  {
   "cell_type": "code",
   "execution_count": 11,
   "id": "36d0eaf8",
   "metadata": {},
   "outputs": [
    {
     "name": "stdout",
     "output_type": "stream",
     "text": [
      "(28709,)\n"
     ]
    }
   ],
   "source": [
    "X.shape\n",
    "print(y.shape)"
   ]
  },
  {
   "cell_type": "code",
   "execution_count": 12,
   "id": "6201f47e",
   "metadata": {},
   "outputs": [],
   "source": [
    "from sklearn.linear_model import LogisticRegression \n",
    "from sklearn.linear_model import LinearRegression\n",
    "#from sklearn.cross_validation import KFold  \n",
    "from sklearn.model_selection import KFold \n",
    "#new versions of python support this, if old then use above comment \n",
    "from sklearn.ensemble import RandomForestRegressor\n",
    "from sklearn.tree import DecisionTreeRegressor, export_graphviz \n",
    "from sklearn import metrics "
   ]
  },
  {
   "cell_type": "code",
   "execution_count": 13,
   "id": "fb66a398",
   "metadata": {},
   "outputs": [],
   "source": [
    "def classification_model(model, data, predictors, outcome):  \n",
    "    #Fit the model:  \n",
    "    model.fit(predictors,outcome)    \n",
    "    #Make predictions on training set:  \n",
    "    predictions = model.predict(predictors)\n",
    "    #Print accuracy  \n",
    "    accuracy = metrics.accuracy_score(predictions,outcome)  \n",
    "    print(\"Accuracy : %s\" % \"{0:.3%}\".format(accuracy))\n",
    "    #Perform k-fold cross-validation with 5 folds  \n",
    "    #kf = KFold(5,shuffle=True)  \n",
    "    #error = []  \n",
    "    '''for train, test in kf.split(data):\n",
    "        # Filter training data    \n",
    "        train_predictors = (data[predictors].iloc[train,:]) \n",
    "        # The target we're using to train the algorithm.    \n",
    "        train_target = data[outcome].iloc[train]        \n",
    "        # Training the algorithm using the predictors and target.    \n",
    "        model.fit(train_predictors, train_target)       \n",
    "        #Record error from each cross-validation run    \n",
    "        error.append(model.score(data[predictors].iloc[test,:], data[outcome].iloc[test]))\n",
    "    print(\"Cross-Validation Score : %s\" % \"{0:.3%}\".format(np.mean(error))) '''\n",
    "    # %s is placeholder for data from format, next % is used to conert it into percentage\n",
    "    #.3% is no. of decimals"
   ]
  },
  {
   "cell_type": "code",
   "execution_count": 14,
   "id": "9fafda24",
   "metadata": {},
   "outputs": [],
   "source": [
    "#model = LogisticRegression(max_iter = 500)\n",
    "#classification_model(model,X,X,y)"
   ]
  },
  {
   "cell_type": "code",
   "execution_count": null,
   "id": "f7fccb5f",
   "metadata": {},
   "outputs": [],
   "source": []
  },
  {
   "cell_type": "markdown",
   "id": "ba019e1f",
   "metadata": {},
   "source": [
    "#### USE X_TEMP FOR NEURAL NETWORKS and X for LOGISTIC REGRESSION"
   ]
  },
  {
   "cell_type": "code",
   "execution_count": 15,
   "id": "7941436c",
   "metadata": {},
   "outputs": [
    {
     "data": {
      "text/plain": [
       "(28709, 48, 48, 1)"
      ]
     },
     "execution_count": 15,
     "metadata": {},
     "output_type": "execute_result"
    }
   ],
   "source": [
    "x_temp.shape"
   ]
  },
  {
   "cell_type": "code",
   "execution_count": 16,
   "id": "d002ceef",
   "metadata": {},
   "outputs": [
    {
     "name": "stdout",
     "output_type": "stream",
     "text": [
      "Requirement already satisfied: keras-utils in c:\\users\\satyadev\\anaconda3\\lib\\site-packages (1.0.13)\n",
      "Requirement already satisfied: Keras>=2.1.5 in c:\\users\\satyadev\\anaconda3\\lib\\site-packages (from keras-utils) (2.7.0)\n"
     ]
    }
   ],
   "source": [
    "!pip install keras-utils"
   ]
  },
  {
   "cell_type": "code",
   "execution_count": 17,
   "id": "13708fae",
   "metadata": {},
   "outputs": [],
   "source": [
    "from keras import utils as np_utils"
   ]
  },
  {
   "cell_type": "code",
   "execution_count": 18,
   "id": "f50aabd4",
   "metadata": {},
   "outputs": [
    {
     "data": {
      "text/plain": [
       "array([1., 0., 0., 0., 0., 0., 0.])"
      ]
     },
     "execution_count": 18,
     "metadata": {},
     "output_type": "execute_result"
    }
   ],
   "source": [
    "b = np.zeros((y.size, y.max()+1))\n",
    "b[np.arange(y.size),y] = 1\n",
    "b[0]"
   ]
  },
  {
   "cell_type": "code",
   "execution_count": 35,
   "id": "a9ba01e6",
   "metadata": {},
   "outputs": [],
   "source": [
    "from keras.models import Sequential\n",
    "from keras.layers import Dense, Conv2D, Flatten\n",
    "#create model\n",
    "model = Sequential()"
   ]
  },
  {
   "cell_type": "code",
   "execution_count": 36,
   "id": "85467012",
   "metadata": {},
   "outputs": [],
   "source": [
    "model.add(Conv2D(256, kernel_size=3, activation='relu', input_shape=(48,48,1)))\n",
    "model.add(Conv2D(128, kernel_size=3, activation='relu'))\n",
    "model.add(Conv2D(64, kernel_size=3, activation='relu'))\n",
    "model.add(Conv2D(32, kernel_size=3, activation='relu'))\n",
    "model.add(Flatten())\n",
    "model.add(Dense(7, activation='softmax'))"
   ]
  },
  {
   "cell_type": "code",
   "execution_count": 37,
   "id": "a79adf43",
   "metadata": {},
   "outputs": [],
   "source": [
    "model.compile(optimizer='adam', loss='categorical_crossentropy', metrics=['accuracy'])"
   ]
  },
  {
   "cell_type": "code",
   "execution_count": 38,
   "id": "3aeb594f",
   "metadata": {},
   "outputs": [
    {
     "name": "stdout",
     "output_type": "stream",
     "text": [
      "Epoch 1/10\n",
      "157/157 [==============================] - 153s 972ms/step - loss: 1.8075 - accuracy: 0.2498\n",
      "Epoch 2/10\n",
      "157/157 [==============================] - 161s 1s/step - loss: 1.7407 - accuracy: 0.2990\n",
      "Epoch 3/10\n",
      "157/157 [==============================] - 167s 1s/step - loss: 1.6552 - accuracy: 0.3536\n",
      "Epoch 4/10\n",
      "157/157 [==============================] - 176s 1s/step - loss: 1.5640 - accuracy: 0.3946\n",
      "Epoch 5/10\n",
      "157/157 [==============================] - 195s 1s/step - loss: 1.4431 - accuracy: 0.4538\n",
      "Epoch 6/10\n",
      "157/157 [==============================] - 234s 1s/step - loss: 1.1625 - accuracy: 0.5738\n",
      "Epoch 7/10\n",
      "157/157 [==============================] - 224s 1s/step - loss: 0.7386 - accuracy: 0.7302\n",
      "Epoch 8/10\n",
      "157/157 [==============================] - 188s 1s/step - loss: 0.3206 - accuracy: 0.8914\n",
      "Epoch 9/10\n",
      "157/157 [==============================] - 178s 1s/step - loss: 0.1171 - accuracy: 0.9654\n",
      "Epoch 10/10\n",
      "157/157 [==============================] - 176s 1s/step - loss: 0.0588 - accuracy: 0.9856\n"
     ]
    },
    {
     "data": {
      "text/plain": [
       "<keras.callbacks.History at 0x222af857f70>"
      ]
     },
     "execution_count": 38,
     "metadata": {},
     "output_type": "execute_result"
    }
   ],
   "source": [
    "model.fit(x_temp[0:5000], b[0:5000], epochs=10)"
   ]
  },
  {
   "cell_type": "code",
   "execution_count": null,
   "id": "88ae6e74",
   "metadata": {},
   "outputs": [],
   "source": []
  }
 ],
 "metadata": {
  "kernelspec": {
   "display_name": "Python 3",
   "language": "python",
   "name": "python3"
  },
  "language_info": {
   "codemirror_mode": {
    "name": "ipython",
    "version": 3
   },
   "file_extension": ".py",
   "mimetype": "text/x-python",
   "name": "python",
   "nbconvert_exporter": "python",
   "pygments_lexer": "ipython3",
   "version": "3.8.8"
  }
 },
 "nbformat": 4,
 "nbformat_minor": 5
}
