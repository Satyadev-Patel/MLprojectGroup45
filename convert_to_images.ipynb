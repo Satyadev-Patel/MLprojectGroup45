{
 "cells": [
  {
   "cell_type": "code",
   "execution_count": 1,
   "id": "8af3bef5",
   "metadata": {},
   "outputs": [],
   "source": [
    "import numpy as np\n",
    "import pandas as pd\n",
    "from PIL import Image as im\n",
    "import matplotlib.pyplot as plt"
   ]
  },
  {
   "cell_type": "code",
   "execution_count": 5,
   "id": "00eee9eb",
   "metadata": {},
   "outputs": [],
   "source": [
    "final_df = pd.read_csv(r\"C:\\Users\\20190\\Downloads\\final_train.csv\")\n"
   ]
  },
  {
   "cell_type": "code",
   "execution_count": 6,
   "id": "7dc8eaa4",
   "metadata": {},
   "outputs": [
    {
     "name": "stdout",
     "output_type": "stream",
     "text": [
      "3    7215\n",
      "6    4965\n",
      "4    4830\n",
      "2    4097\n",
      "0    3995\n",
      "5    3171\n",
      "1     436\n",
      "Name: emotion, dtype: int64\n"
     ]
    }
   ],
   "source": [
    "X = final_df.drop(columns = ['emotion'])\n",
    "X = X.to_numpy()\n",
    "x_temp = np.reshape(X,(28709,48,48))\n",
    "x_temp = x_temp/255\n",
    "\n",
    "y = final_df['emotion']\n",
    "print(y.value_counts())\n",
    "y = y.to_numpy()"
   ]
  },
  {
   "cell_type": "code",
   "execution_count": 8,
   "id": "181df27f",
   "metadata": {},
   "outputs": [],
   "source": [
    "j = 0\n",
    "for i in range(2870):\n",
    "    plt.imsave('data_validation/' + str(y[i]) + '/' + str(i) + '.jpeg',x_temp[i])\n",
    "    j = j + 1\n",
    "    \n",
    "j = 0\n",
    "for i in range(2870,28709):\n",
    "    plt.imsave('data_train/' + str(y[i]) + '/' + str(i) + '.jpeg',x_temp[i])\n",
    "    j = j + 1\n",
    "\n"
   ]
  },
  {
   "cell_type": "code",
   "execution_count": 2,
   "id": "9f0d2456",
   "metadata": {},
   "outputs": [],
   "source": [
    "dict = {\"ADAM\":[55.11,73.35,69.32,36.63], \"RMSprop\" : [0,73.39,66.47,34.75], \"Model\" : ['Basic Model','VGG','ResNet','Inception Model']}\n",
    "df = pd.DataFrame.from_dict(dict)"
   ]
  },
  {
   "cell_type": "code",
   "execution_count": 7,
   "id": "5d730ffb",
   "metadata": {},
   "outputs": [
    {
     "data": {
      "text/plain": [
       "<Figure size 720x720 with 0 Axes>"
      ]
     },
     "metadata": {},
     "output_type": "display_data"
    },
    {
     "data": {
      "image/png": "[encoded data removed]",
      "text/plain": [
       "<Figure size 432x288 with 1 Axes>"
      ]
     },
     "metadata": {
      "needs_background": "light"
     },
     "output_type": "display_data"
    }
   ],
   "source": [
    "fig = plt.figure(figsize = (10,10))\n",
    "df.plot(x=\"Model\", y=[\"ADAM\", \"RMSprop\"], kind=\"bar\")\n",
    "plt.ylabel(\"Accuracy\")\n",
    "fig.savefig('comp.jpeg')"
   ]
  },
  {
   "cell_type": "code",
   "execution_count": null,
   "id": "93537f4a",
   "metadata": {},
   "outputs": [],
   "source": []
  }
 ],
 "metadata": {
  "kernelspec": {
   "display_name": "Python 3 (ipykernel)",
   "language": "python",
   "name": "python3"
  },
  "language_info": {
   "codemirror_mode": {
    "name": "ipython",
    "version": 3
   },
   "file_extension": ".py",
   "mimetype": "text/x-python",
   "name": "python",
   "nbconvert_exporter": "python",
   "pygments_lexer": "ipython3",
   "version": "3.9.7"
  }
 },
 "nbformat": 4,
 "nbformat_minor": 5
}
