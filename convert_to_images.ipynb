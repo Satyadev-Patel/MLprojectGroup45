{
 "cells": [
  {
   "cell_type": "code",
   "execution_count": 23,
   "id": "8af3bef5",
   "metadata": {},
   "outputs": [],
   "source": [
    "import numpy as np\n",
    "import pandas as pd\n",
    "from PIL import Image as im\n",
    "import matplotlib.pyplot as plt"
   ]
  },
  {
   "cell_type": "code",
   "execution_count": 24,
   "id": "00eee9eb",
   "metadata": {},
   "outputs": [],
   "source": [
    "final_df = pd.read_csv(r'D:\\academics\\SEM5\\ML\\final_train.csv')\n"
   ]
  },
  {
   "cell_type": "code",
   "execution_count": 27,
   "id": "7dc8eaa4",
   "metadata": {},
   "outputs": [
    {
     "name": "stdout",
     "output_type": "stream",
     "text": [
      "3    7215\n",
      "6    4965\n",
      "4    4830\n",
      "2    4097\n",
      "0    3995\n",
      "5    3171\n",
      "1     436\n",
      "Name: emotion, dtype: int64\n"
     ]
    }
   ],
   "source": [
    "X = final_df.drop(columns = ['emotion'])\n",
    "X = X.to_numpy()\n",
    "x_temp = np.reshape(X,(28709,48,48))\n",
    "x_temp = x_temp/255\n",
    "\n",
    "y = final_df['emotion']\n",
    "print(y.value_counts())\n",
    "y = y.to_numpy()"
   ]
  },
  {
   "cell_type": "code",
   "execution_count": 29,
   "id": "181df27f",
   "metadata": {},
   "outputs": [],
   "source": [
    "j = 0\n",
    "for i in x_temp:\n",
    "    plt.imsave('data/' + str(y[j]) + '/' + str(j) + '.jpeg',i)\n",
    "    j = j + 1\n"
   ]
  },
  {
   "cell_type": "code",
   "execution_count": null,
   "id": "9f0d2456",
   "metadata": {},
   "outputs": [],
   "source": []
  }
 ],
 "metadata": {
  "kernelspec": {
   "display_name": "Python 3 (ipykernel)",
   "language": "python",
   "name": "python3"
  },
  "language_info": {
   "codemirror_mode": {
    "name": "ipython",
    "version": 3
   },
   "file_extension": ".py",
   "mimetype": "text/x-python",
   "name": "python",
   "nbconvert_exporter": "python",
   "pygments_lexer": "ipython3",
   "version": "3.9.7"
  }
 },
 "nbformat": 4,
 "nbformat_minor": 5
}
